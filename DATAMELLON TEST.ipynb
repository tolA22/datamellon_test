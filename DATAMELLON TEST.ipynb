{
 "cells": [
  {
   "cell_type": "code",
   "execution_count": 45,
   "metadata": {},
   "outputs": [],
   "source": [
    "import json \n",
    "import re\n",
    "\n",
    "\n",
    "#store the filepath\n",
    "path = \"C:\\\\Users\\\\HP\\\\Downloads\\\\\"\n",
    "\n",
    "#store the data to be read in a variable 'filename'\n",
    "filename = \"datamellon data.txt\"\n",
    "\n",
    "# Opening JSON file \n",
    "f = open(path+filename,'r',encoding='utf-8') \n",
    "  \n",
    "data = f.read()\n",
    "\n",
    "# def jsonReadPrint():\n",
    "    "
   ]
  },
  {
   "cell_type": "code",
   "execution_count": null,
   "metadata": {},
   "outputs": [],
   "source": []
  },
  {
   "cell_type": "code",
   "execution_count": 48,
   "metadata": {},
   "outputs": [],
   "source": [
    "\n",
    "\n",
    "newdata = re.sub(r\"(\\\\n)|(\\\\)\",'',data)\n",
    "newdata = re.sub(r\"(\\\"\\\")\",'',newdata)\n",
    "newdata = re.sub(r\"(\\\"{)\",'{',newdata)\n",
    "newdata = re.sub(r\"(}\\\")\",'}',newdata)\n",
    "newdata = re.sub(r\"(\\\"string_value:)\",\"\", newdata)\n",
    "\n",
    "\n",
    "# print(newdata)\n"
   ]
  },
  {
   "cell_type": "code",
   "execution_count": 49,
   "metadata": {},
   "outputs": [],
   "source": [
    "newfile =open(path+\"datamellon_new_data.json\",\"w+\",encoding='utf-8')"
   ]
  },
  {
   "cell_type": "code",
   "execution_count": 50,
   "metadata": {},
   "outputs": [],
   "source": [
    "newfile.write(newdata)\n",
    "newfile.close()"
   ]
  },
  {
   "cell_type": "code",
   "execution_count": 51,
   "metadata": {},
   "outputs": [],
   "source": [
    "f = open(path+'datamellon_new_data.json',encoding='utf-8') \n",
    "  \n",
    "# returns JSON object as  \n",
    "# a dictionary \n",
    "data = json.load(f) "
   ]
  },
  {
   "cell_type": "code",
   "execution_count": 52,
   "metadata": {},
   "outputs": [
    {
     "data": {
      "text/plain": [
       "{'name': 'organizations/352790554748/sources/13406212772423848836/findings/0e90e6527ea1919608ca90ce31eb690a',\n",
       " 'resource_name': 'organization/352790554748/folder/590141379075/folder/282965284682/project/dm-gcp-tst-01/firewall/3541402980997554954/',\n",
       " 'category': 'FIREWALL_BLACKLIST_VIOLATION',\n",
       " 'event_time': 'seconds: 1589409585',\n",
       " 'create_time': 'seconds: 1589399651nanos: 675000000',\n",
       " 'violation_data': {'policy_names': ['gcp-tst-cloudiap-to-all'],\n",
       "  'recommended_actions': {'DELETE_FIREWALL_RULES': ['vgcp-tst-cloudiap-to-all']}}}"
      ]
     },
     "execution_count": 52,
     "metadata": {},
     "output_type": "execute_result"
    }
   ],
   "source": [
    "data['Records'][0]['Sns']['Message']['Records'][0]['body']"
   ]
  },
  {
   "cell_type": "code",
   "execution_count": 59,
   "metadata": {},
   "outputs": [
    {
     "name": "stdout",
     "output_type": "stream",
     "text": [
      "FIREWALL_BLACKLIST_VIOLATION\n"
     ]
    }
   ],
   "source": [
    "category = data['Records'][0]['Sns']['Message']['Records'][0]['body']['category']\n",
    "print(category)"
   ]
  },
  {
   "cell_type": "code",
   "execution_count": 60,
   "metadata": {},
   "outputs": [
    {
     "name": "stdout",
     "output_type": "stream",
     "text": [
      "{'policy_names': ['gcp-tst-cloudiap-to-all'], 'recommended_actions': {'DELETE_FIREWALL_RULES': ['vgcp-tst-cloudiap-to-all']}}\n"
     ]
    }
   ],
   "source": [
    "violation_data = data['Records'][0]['Sns']['Message']['Records'][0]['body']['violation_data']\n",
    "print(violation_data)"
   ]
  },
  {
   "cell_type": "code",
   "execution_count": 61,
   "metadata": {},
   "outputs": [
    {
     "name": "stdout",
     "output_type": "stream",
     "text": [
      "{'DELETE_FIREWALL_RULES': ['vgcp-tst-cloudiap-to-all']}\n"
     ]
    }
   ],
   "source": [
    "recommended_actions = data['Records'][0]['Sns']['Message']['Records'][0]['body']['violation_data']['recommended_actions']\n",
    "print(recommended_actions)"
   ]
  },
  {
   "cell_type": "code",
   "execution_count": null,
   "metadata": {},
   "outputs": [],
   "source": []
  }
 ],
 "metadata": {
  "kernelspec": {
   "display_name": "Python 3",
   "language": "python",
   "name": "python3"
  },
  "language_info": {
   "codemirror_mode": {
    "name": "ipython",
    "version": 3
   },
   "file_extension": ".py",
   "mimetype": "text/x-python",
   "name": "python",
   "nbconvert_exporter": "python",
   "pygments_lexer": "ipython3",
   "version": "3.8.2"
  }
 },
 "nbformat": 4,
 "nbformat_minor": 4
}
